{
 "cells": [
  {
   "cell_type": "markdown",
   "metadata": {},
   "source": [
    "# Preprocessing and Filtering\n",
    "\n",
    "### Things to achieve in this notebook\n",
    "\n",
    "- This notebook carries on from location inference (sentiment is recalculated as the location inference code is designed to take in complete tweet objects)\n",
    "- Open the data and get it in a form you can use           \n",
    "- Bot removal\n",
    "- Relevance filtering"
   ]
  },
  {
   "cell_type": "code",
   "execution_count": 180,
   "metadata": {},
   "outputs": [],
   "source": [
    "## Import libraries\n",
    "\n",
    "import matplotlib.pyplot as plt                               # Used for plotting data\n",
    "from collections import Counter                               # This is used to count occurances of values\n",
    "import pandas as pd                                           # Used for cleanly displaying data\n",
    "import numpy as np                                            # Collection of mathematical functions\n",
    "import tarfile                                                # Used for extracting files\n",
    "import json                                                   # Processing individual JSON files uses this\n",
    "import csv                                                    # This was used to create and read csvs\n",
    "import string\n",
    "import pickle\n",
    "import os                                                     # This helped locate and delete json files\n",
    "import re\n",
    "import random\n",
    "import operator\n",
    "import nltk\n",
    "from nltk.corpus import stopwords\n",
    "from ast import literal_eval                                  # Used to convert strings to dict\n",
    "from datetime import datetime                                 # This processes different date formats\n",
    "from pandas.plotting import register_matplotlib_converters    # This had to be registered to allow for timeseries plots\n",
    "from vaderSentiment.vaderSentiment import SentimentIntensityAnalyzer\n",
    "from emoji import demojize\n",
    "from langdetect import detect\n",
    "from multiprocessing import Process\n",
    "import cartopy.crs as ccrs\n",
    "import cartopy.feature as cfeature\n",
    "import matplotlib.pyplot as plt\n",
    "import cartopy.io.img_tiles as cimgt\n",
    "from matplotlib.patches import Rectangle\n",
    "from sklearn.model_selection import train_test_split\n",
    "from sklearn.naive_bayes import MultinomialNB\n",
    "from sklearn.metrics import f1_score\n",
    "from sklearn.metrics import accuracy_score\n",
    "from sklearn.metrics import  confusion_matrix\n",
    "register_matplotlib_converters()\n",
    "pd.set_option('display.max_rows', 10)                         # Setting displayed panda length"
   ]
  },
  {
   "cell_type": "markdown",
   "metadata": {},
   "source": [
    "## Preliminary Checks\n",
    "\n",
    "### To Do:\n",
    "\n",
    "- Open the data and get it in a form you can use             \n",
    "- Plot a time series to check for down days etc.\n",
    "- Language analysis"
   ]
  },
  {
   "cell_type": "markdown",
   "metadata": {},
   "source": [
    "#### Opening Data"
   ]
  },
  {
   "cell_type": "code",
   "execution_count": 57,
   "metadata": {},
   "outputs": [],
   "source": [
    "File_Locations = 'C:/Users/beckr/Documents/Uni_Work/Masters/Advanced_Project/Data/located_tweets/'\n",
    "\n",
    "if os.path.exists('HeatCSV.csv'):                                                # Prevents overlap of files\n",
    "    os.remove('HeatCSV.csv')\n",
    "\n",
    "with open('HeatCSV.csv', \"a+\", encoding='utf-8', newline='') as csvfile:         # Loop for all files in File_Locations\n",
    "    writer = csv.writer(csvfile)\n",
    "\n",
    "    for filename in os.listdir(File_Locations):                                     # Iterates through the files to extract\n",
    "        with open((File_Locations + filename), mode='r', encoding='utf-8') as current:     \n",
    "                \n",
    "            for line in current:\n",
    "                \n",
    "                new_line = literal_eval(line)\n",
    "                writer.writerow(new_line[0] + new_line[1])"
   ]
  },
  {
   "cell_type": "code",
   "execution_count": 58,
   "metadata": {},
   "outputs": [],
   "source": [
    "# For ease of indexing\n",
    "\n",
    "ID = 0\n",
    "timestamp = 1\n",
    "place = 2\n",
    "text = 3\n",
    "coord = 4\n",
    "sentiment = 5"
   ]
  },
  {
   "cell_type": "markdown",
   "metadata": {},
   "source": [
    "#### Time Series"
   ]
  },
  {
   "cell_type": "code",
   "execution_count": 59,
   "metadata": {},
   "outputs": [
    {
     "name": "stdout",
     "output_type": "stream",
     "text": [
      "Total number of tweets:  266240\n"
     ]
    }
   ],
   "source": [
    "# Count tweets\n",
    "\n",
    "NumTweets = 0                                                      # Loop simply runs through each row (tweet) and counts\n",
    "with open('HeatCSV.csv', 'r', encoding='utf-8') as current:\n",
    "    reader = csv.reader(current)\n",
    "    for line in reader:\n",
    "        NumTweets += 1\n",
    "        \n",
    "print('Total number of tweets: ', NumTweets)"
   ]
  },
  {
   "cell_type": "code",
   "execution_count": null,
   "metadata": {},
   "outputs": [],
   "source": [
    "tweetcount = Counter()                                              # Initialise counter\n",
    "with open('HeatCSV.csv','r', encoding='utf-8') as csvfile:       # Run through lines of csv\n",
    "    read = csv.reader(csvfile)\n",
    "    for line in read:\n",
    "        ts = int(line[timestamp])/1000                              # Convert timestamps to ms                     \n",
    "        Date = datetime.utcfromtimestamp(ts).date()                 # Turn ts into date\n",
    "        tweetcount[Date] +=1"
   ]
  },
  {
   "cell_type": "code",
   "execution_count": null,
   "metadata": {},
   "outputs": [],
   "source": [
    "lists = sorted(tweetcount.items())                                  # Sorting and seperating the data\n",
    "day, quant = zip(*lists)\n",
    "\n",
    "plt.figure(figsize = [18,5])\n",
    "plt.plot(day,quant)\n",
    "plt.title('Timeseries plot of date to daily tweet count', size = 13)\n",
    "plt.xlabel('Date')\n",
    "plt.ylabel('Tweet count')\n",
    "plt.show()"
   ]
  },
  {
   "cell_type": "markdown",
   "metadata": {},
   "source": [
    "#### Language analysis"
   ]
  },
  {
   "cell_type": "code",
   "execution_count": null,
   "metadata": {},
   "outputs": [],
   "source": [
    "# Count how many undifined tweets are english language\n",
    "countEng = 0\n",
    "\n",
    "if os.path.exists('HeatEngCSV.csv'):                                                # Prevents overlap of files\n",
    "    os.remove('HeatEngCSV.csv')\n",
    "\n",
    "with open('HeatEngCSV.csv', \"a+\", encoding='utf-8', newline='') as csvfile:         # Loop for all files in File_Locations\n",
    "    writer = csv.writer(csvfile)\n",
    "\n",
    "    with open('HeatCSV.csv','r', encoding='utf-8') as csvfile:       # Run through lines of csv\n",
    "        read = csv.reader(csvfile)\n",
    "        for line in read:\n",
    "                             \n",
    "            try: dt = detect(demojize(line[text]))\n",
    "            except:\n",
    "                continue\n",
    "            if dt == 'en':\n",
    "                writer.writerow(line)\n",
    "                countEng = countEng + 1\n",
    "\n",
    "print(countEng)"
   ]
  },
  {
   "cell_type": "markdown",
   "metadata": {},
   "source": [
    "## Sentiment Analysis\n",
    "\n",
    "### To Do:\n",
    "\n",
    "- Sentiment analysis\n",
    "- Time series\n",
    "- Mapping"
   ]
  },
  {
   "cell_type": "markdown",
   "metadata": {},
   "source": [
    "#### Sentiment Analysis"
   ]
  },
  {
   "cell_type": "code",
   "execution_count": 9,
   "metadata": {},
   "outputs": [],
   "source": [
    "analyzer = SentimentIntensityAnalyzer()"
   ]
  },
  {
   "cell_type": "code",
   "execution_count": 29,
   "metadata": {},
   "outputs": [],
   "source": [
    "if os.path.exists('HeatSentCSV.csv'):                                                # Prevents overlap of files\n",
    "    os.remove('HeatSentCSV.csv')\n",
    "\n",
    "with open('HeatSentCSV.csv', \"a+\", encoding='utf-8', newline='') as csvfile:         # Loop for all files in File_Locations\n",
    "    writer = csv.writer(csvfile)\n",
    "\n",
    "    with open('HeatEngCSV.csv','r', encoding='utf-8') as csvfile:       # Run through lines of csv\n",
    "        read = csv.reader(csvfile)\n",
    "        for line in read:\n",
    "            if len(line) == 5:  # Ensure all fields have entries\n",
    "        \n",
    "                vs = analyzer.polarity_scores(line[text])\n",
    "                sent = vs['compound']\n",
    "\n",
    "                newline = line + [sent]\n",
    "\n",
    "                writer.writerow(newline)"
   ]
  },
  {
   "cell_type": "markdown",
   "metadata": {},
   "source": [
    "#### Create Time series\n",
    " - use average sentiment"
   ]
  },
  {
   "cell_type": "code",
   "execution_count": 30,
   "metadata": {},
   "outputs": [],
   "source": [
    "tweetcount = Counter()                                              # Initialise counter\n",
    "with open('HeatSentCSV.csv','r', encoding='utf-8') as csvfile:       # Run through lines of csv\n",
    "    read = csv.reader(csvfile)\n",
    "    for line in read:\n",
    "        ts = int(line[timestamp])/1000                              # Convert timestamps to ms                     \n",
    "        Date = datetime.utcfromtimestamp(ts).date()                 # Turn ts into date\n",
    "        tweetcount[Date] +=1"
   ]
  },
  {
   "cell_type": "code",
   "execution_count": 31,
   "metadata": {},
   "outputs": [],
   "source": [
    "df = pd.DataFrame.from_dict(tweetcount, orient = 'index')\n",
    "df.index.name = 'Date'\n",
    "df['sent'] = 0\n",
    "i = 0\n",
    "with open('HeatSentCSV.csv','r', encoding='utf-8') as csvfile:       # Run through lines of csv\n",
    "    read = csv.reader(csvfile)\n",
    "    for line in read:\n",
    "        i = i+1\n",
    "        ts = int(line[timestamp])/1000                              # Convert timestamps to ms                     \n",
    "        Date = (datetime.utcfromtimestamp(ts).date())                 # Turn ts into date\n",
    "        new = df.at[Date, 'sent'] + float(line[sentiment])\n",
    "        df.loc[Date, 'sent'] = new\n",
    "        \n",
    "df['sent']=df['sent']/df[0]"
   ]
  },
  {
   "cell_type": "code",
   "execution_count": 32,
   "metadata": {},
   "outputs": [
    {
     "data": {
      "image/png": "[encoded data removed]",
      "text/plain": [
       "<Figure size 1296x360 with 1 Axes>"
      ]
     },
     "metadata": {
      "needs_background": "light"
     },
     "output_type": "display_data"
    }
   ],
   "source": [
    "df = df.reset_index()\n",
    "df = df.sort_values(by='Date')\n",
    "\n",
    "plt.figure(figsize = [18,5])\n",
    "plt.plot(df['Date'],df['sent'])\n",
    "plt.title('Timeseries plot of date to daily average sentiment', size = 13)\n",
    "plt.xlabel('Date')\n",
    "plt.ylabel('Sentiment')\n",
    "plt.show()"
   ]
  },
  {
   "cell_type": "markdown",
   "metadata": {},
   "source": [
    "## Bot Removal"
   ]
  },
  {
   "cell_type": "code",
   "execution_count": 36,
   "metadata": {},
   "outputs": [
    {
     "name": "stdout",
     "output_type": "stream",
     "text": [
      "unique ID: 256355\n"
     ]
    }
   ],
   "source": [
    "from collections import Counter\n",
    "\n",
    "uniqueID = Counter()\n",
    "\n",
    "with open('HeatSentCSV.csv','r', encoding='utf-8') as csvfile:   # Simple loop to add to the above counters\n",
    "    read = csv.reader(csvfile)\n",
    "    for line in read:\n",
    "        \n",
    "        uniqueID[line[ID]] +=1\n",
    "        \n",
    "print('unique ID:', len(uniqueID))"
   ]
  },
  {
   "cell_type": "code",
   "execution_count": 37,
   "metadata": {},
   "outputs": [
    {
     "data": {
      "image/png": "[encoded data removed]",
      "text/plain": [
       "<Figure size 1440x360 with 4 Axes>"
      ]
     },
     "metadata": {
      "needs_background": "light"
     },
     "output_type": "display_data"
    }
   ],
   "source": [
    "userfreq = sorted(uniqueID.values())                           # Taking just the counts of the counter\n",
    "\n",
    "fig, axs = plt.subplots(1, 4, figsize = (20,5))\n",
    "\n",
    "for i, bins in enumerate([10,50,100,150]):                     # Plotting the histograms and annotating them below.\n",
    "    axs[i].hist(x = userfreq, bins = bins)\n",
    "    axs[i].set_title(label = 'Bins: %i'% bins)\n",
    "    \n",
    "plt.suptitle('Histograms of Varying Bin Widths Between Number of Users and Number of Tweets', size = 16)\n",
    "fig.text(0.5, 0.0, 'Number of Tweets', ha='center', size = 14)\n",
    "fig.text(0.075, 0.5, 'Number of Users', va='center', rotation='vertical', size = 14)\n",
    "plt.show()"
   ]
  },
  {
   "cell_type": "code",
   "execution_count": 38,
   "metadata": {},
   "outputs": [
    {
     "data": {
      "image/png": "[encoded data removed]",
      "text/plain": [
       "<Figure size 1440x360 with 4 Axes>"
      ]
     },
     "metadata": {
      "needs_background": "light"
     },
     "output_type": "display_data"
    }
   ],
   "source": [
    "fig, axs = plt.subplots(1, 4, figsize = (20,5))\n",
    "\n",
    "for i, bins in enumerate([10,50,100,150]):                     # Plotting the histograms and annotating them below.\n",
    "    axs[i].hist(x = userfreq[:-10], bins = bins)\n",
    "    axs[i].set_title(label = 'Bins: %i'% bins )\n",
    "\n",
    "plt.suptitle('Histograms of Varying Bin Widths Between Number of Users and Number of Tweets (maximum 10 excluded)', size = 16)\n",
    "fig.text(0.5, 0.0, 'Number of Tweets', ha='center', size = 14)\n",
    "fig.text(0.075, 0.5, 'Number of Users', va='center', rotation='vertical', size = 14)\n",
    "plt.show()"
   ]
  },
  {
   "cell_type": "code",
   "execution_count": 39,
   "metadata": {},
   "outputs": [
    {
     "data": {
      "image/png": "[encoded data removed]",
      "text/plain": [
       "<Figure size 1440x360 with 4 Axes>"
      ]
     },
     "metadata": {
      "needs_background": "light"
     },
     "output_type": "display_data"
    }
   ],
   "source": [
    "fig, axs = plt.subplots(1, 4, figsize = (20,5))\n",
    "\n",
    "for i, bins in enumerate([10,50,100,150]):                     # Plotting the histograms and annotating them below.\n",
    "    axs[i].hist(x = np.log(userfreq), bins = bins)\n",
    "    axs[i].set_title(label = 'Bins: %i'% bins )\n",
    "    \n",
    "plt.suptitle('Histograms of Varying Bin Widths Between Number of Users and Log Number of Tweets', size = 16)\n",
    "fig.text(0.5, 0.0, 'Number of Tweets', ha='center', size = 14)\n",
    "fig.text(0.075, 0.5, 'Number of Users', va='center', rotation='vertical', size = 14)\n",
    "plt.show()    "
   ]
  },
  {
   "cell_type": "markdown",
   "metadata": {},
   "source": [
    "Although none tweet excessively it is worth noting all these tweets have the word heat, heatwave of drought in them,"
   ]
  },
  {
   "cell_type": "code",
   "execution_count": 40,
   "metadata": {},
   "outputs": [
    {
     "data": {
      "text/plain": [
       "[('963958541601173504', 11),\n",
       " ('992498535231877120', 7),\n",
       " ('986364975978598400', 3),\n",
       " ('988964066348515328', 3),\n",
       " ('1012800279635521536', 3),\n",
       " ('1012817016498028555', 3),\n",
       " ('949551626133622784', 2),\n",
       " ('950463942186491904', 2),\n",
       " ('950579652422123520', 2),\n",
       " ('950778205971005440', 2)]"
      ]
     },
     "execution_count": 40,
     "metadata": {},
     "output_type": "execute_result"
    }
   ],
   "source": [
    "uniqueID.most_common(10)"
   ]
  },
  {
   "cell_type": "code",
   "execution_count": 44,
   "metadata": {},
   "outputs": [
    {
     "name": "stdout",
     "output_type": "stream",
     "text": [
      "963958541601173504 : ['963958541601173504']\n",
      "992498535231877120 : ['992498535231877120']\n",
      "986364975978598400 : ['986364975978598400']\n",
      "988964066348515328 : ['988964066348515328']\n",
      "1012800279635521536 : ['1012800279635521536']\n",
      "1012817016498028555 : ['1012817016498028555']\n",
      "949551626133622784 : ['949551626133622784']\n",
      "950463942186491904 : ['950463942186491904']\n",
      "950579652422123520 : ['950579652422123520']\n",
      "950778205971005440 : ['950778205971005440']\n"
     ]
    }
   ],
   "source": [
    "AltNames = {}                                                   # Dictionary for holding alternative names\n",
    "\n",
    "with open('HeatCSV.csv','r', encoding='utf-8') as csvfile:   \n",
    "    read = csv.reader(csvfile)\n",
    "    \n",
    "    for line in read: \n",
    "        \n",
    "        if line[ID] not in AltNames:                            # Adds first instance of screen name\n",
    "            AltNames[line[ID]] = [line[ID]]\n",
    "            \n",
    "        if line[ID] not in AltNames[line[ID]]:         # Adds additional screen names for user to dictionary\n",
    "            temp = AltNames[line[ID]]\n",
    "            temp.append(line[ID])\n",
    "            AltNames[line[ID]] = temp\n",
    "\n",
    "orderedID, _ = zip(*uniqueID.most_common(10))\n",
    "\n",
    "for i in orderedID:                                             # Prints top 10 tweets alternative screen names\n",
    "    print(i,':',AltNames[i])"
   ]
  },
  {
   "cell_type": "code",
   "execution_count": 46,
   "metadata": {},
   "outputs": [
    {
     "data": {
      "text/html": [
       "<div>\n",
       "<style scoped>\n",
       "    .dataframe tbody tr th:only-of-type {\n",
       "        vertical-align: middle;\n",
       "    }\n",
       "\n",
       "    .dataframe tbody tr th {\n",
       "        vertical-align: top;\n",
       "    }\n",
       "\n",
       "    .dataframe thead th {\n",
       "        text-align: right;\n",
       "    }\n",
       "</style>\n",
       "<table border=\"1\" class=\"dataframe\">\n",
       "  <thead>\n",
       "    <tr style=\"text-align: right;\">\n",
       "      <th></th>\n",
       "      <th></th>\n",
       "    </tr>\n",
       "    <tr>\n",
       "      <th>variable</th>\n",
       "      <th>value</th>\n",
       "    </tr>\n",
       "  </thead>\n",
       "  <tbody>\n",
       "    <tr>\n",
       "      <th>963958541601173504</th>\n",
       "      <th>#MHANews Extreme concern over mental welfare of drought affected Hunter farmers @DairyConnect @shaughn_morgan https://t.co/gDbb2aEWM6</th>\n",
       "    </tr>\n",
       "    <tr>\n",
       "      <th>992498535231877120</th>\n",
       "      <th>What do you think about this #safrinha cornfield?\\n#drought\\n#agro\\n#brazil https://t.co/fBO5Ai8n7X</th>\n",
       "    </tr>\n",
       "    <tr>\n",
       "      <th>986364975978598400</th>\n",
       "      <th>#NowPlaying  Heatwave - Mind Blowing Decisions (Extended Remix Version) #listenlive https://t.co/CHvdihuf4U</th>\n",
       "    </tr>\n",
       "    <tr>\n",
       "      <th>988964066348515328</th>\n",
       "      <th>@HasibaAmin What about 60 years loot..... You guys are so excited as if nothing bad, corruption, scams, war, emerge https://t.co/Qs31bkuoMj</th>\n",
       "    </tr>\n",
       "    <tr>\n",
       "      <th>1012800279635521536</th>\n",
       "      <th>Heatwave to continue into next week as Londoners bask in 28C heat https://t.co/z2hsRNRYEb</th>\n",
       "    </tr>\n",
       "    <tr>\n",
       "      <th>1012817016498028555</th>\n",
       "      <th>Ive a feeling the alcohol sales will be through the roof this week.  #heatwave</th>\n",
       "    </tr>\n",
       "    <tr>\n",
       "      <th>949551626133622784</th>\n",
       "      <th>Bushfires destroy buildings in Australia as heatwave melts highway surface https://t.co/58URrxkSqK</th>\n",
       "    </tr>\n",
       "    <tr>\n",
       "      <th>950463942186491904</th>\n",
       "      <th>#Grinding #MondayMotivation #heatwave #BiboOutNow #SnapLezz #hiphop #HipHopMusic https://t.co/NU3Z9g6Fcf</th>\n",
       "    </tr>\n",
       "    <tr>\n",
       "      <th>950579652422123520</th>\n",
       "      <th>Bats brains boil in Australia heatwave https://t.co/NEAluRImnn https://t.co/1WDyOvIwWh</th>\n",
       "    </tr>\n",
       "    <tr>\n",
       "      <th>950778205971005440</th>\n",
       "      <th>DYK our DS92J87RA grain corn hybrid has a strong response to fungicide application &amp;amp; excellent drought tolerance. W https://t.co/ySaea2kX9F</th>\n",
       "    </tr>\n",
       "  </tbody>\n",
       "</table>\n",
       "</div>"
      ],
      "text/plain": [
       "Empty DataFrame\n",
       "Columns: []\n",
       "Index: [(963958541601173504, #MHANews Extreme concern over mental welfare of drought affected Hunter farmers @DairyConnect @shaughn_morgan https://t.co/gDbb2aEWM6), (992498535231877120, What do you think about this #safrinha cornfield?\n",
       "#drought\n",
       "#agro\n",
       "#brazil https://t.co/fBO5Ai8n7X), (986364975978598400, #NowPlaying  Heatwave - Mind Blowing Decisions (Extended Remix Version) #listenlive https://t.co/CHvdihuf4U), (988964066348515328, @HasibaAmin What about 60 years loot..... You guys are so excited as if nothing bad, corruption, scams, war, emerge https://t.co/Qs31bkuoMj), (1012800279635521536, Heatwave to continue into next week as Londoners bask in 28C heat https://t.co/z2hsRNRYEb), (1012817016498028555, Ive a feeling the alcohol sales will be through the roof this week.  #heatwave ), (949551626133622784, Bushfires destroy buildings in Australia as heatwave melts highway surface https://t.co/58URrxkSqK), (950463942186491904, #Grinding #MondayMotivation #heatwave #BiboOutNow #SnapLezz #hiphop #HipHopMusic https://t.co/NU3Z9g6Fcf), (950579652422123520, Bats brains boil in Australia heatwave https://t.co/NEAluRImnn https://t.co/1WDyOvIwWh), (950778205971005440, DYK our DS92J87RA grain corn hybrid has a strong response to fungicide application &amp; excellent drought tolerance. W https://t.co/ySaea2kX9F)]"
      ]
     },
     "execution_count": 46,
     "metadata": {},
     "output_type": "execute_result"
    }
   ],
   "source": [
    "SampledTop10 = {}\n",
    "np.random.seed(0)                                 # Seed for random numbers (set as 0 for below interpretation to apply)\n",
    "\n",
    "with open('HeatCSV.csv','r', encoding='utf-8') as csvfile:\n",
    "    read = csv.reader(csvfile)\n",
    "    for line in read:\n",
    "        \n",
    "          if line[ID] in orderedID:                                # Checks if ID is one of top 10 tweeters\n",
    "                tempID = line[ID]               \n",
    "\n",
    "                if tempID not in SampledTop10:                 # Checks if first instance of tweeter\n",
    "\n",
    "                    temp = {}                                  # Makes dict for holding top 10\n",
    "                    temp[0] = line[text]                      \n",
    "                    SampledTop10[tempID] = temp                # Adds first tweet\n",
    "                    continue\n",
    "\n",
    "                lentweets = len(SampledTop10[tempID])          \n",
    "\n",
    "                if lentweets < 10:                             # We only require 10 tweets from each user so this checks\n",
    "\n",
    "                    temp = SampledTop10[tempID]\n",
    "                    temp[lentweets] = line[text]\n",
    "                    SampledTop10[tempID] = temp\n",
    "                    \n",
    "\n",
    "pd.set_option('display.max_rows', 100)                                             # Allows for full df to be displayed\n",
    "df  = pd.DataFrame.from_dict(SampledTop10, orient = 'index').reindex(orderedID)    # Sorts the df for easy reading\n",
    "pd.melt(df.T, id_vars = None).groupby( ['variable','value'],sort = False).first()\n"
   ]
  },
  {
   "cell_type": "markdown",
   "metadata": {},
   "source": [
    "**If you find bots remove them**\n",
    "Write a new csv where you write a row if username isn't in list. The following appear to be news tweets or all tweets from the user follow the same format. We remove all of these as they do not show personal reponses to heat."
   ]
  },
  {
   "cell_type": "code",
   "execution_count": 47,
   "metadata": {},
   "outputs": [],
   "source": [
    "bot_list = ('963958541601173504', '986364975978598400', '1012800279635521536', '949551626133622784',\n",
    "            '950463942186491904', '950579652422123520', '950778205971005440')"
   ]
  },
  {
   "cell_type": "code",
   "execution_count": 49,
   "metadata": {},
   "outputs": [],
   "source": [
    "if os.path.exists('HeatBotCSV.csv'):                                                # Prevents overlap of files\n",
    "    os.remove('HeatBotCSV.csv')\n",
    "\n",
    "with open('HeatBotCSV.csv', \"a+\", encoding='utf-8', newline='') as csvfile:         # Loop for all files in File_Locations\n",
    "    writer = csv.writer(csvfile)\n",
    "\n",
    "    with open('HeatSentCSV.csv','r', encoding='utf-8') as csvfile:       # Run through lines of csv\n",
    "        read = csv.reader(csvfile)\n",
    "\n",
    "        for line in read:\n",
    "\n",
    "            test_string = line[ID]\n",
    "            res = [ele for ele in bot_list if(ele in test_string)]\n",
    "            if str(bool(res)) == 'False':\n",
    "                writer.writerow(line)\n",
    "                "
   ]
  },
  {
   "cell_type": "code",
   "execution_count": 50,
   "metadata": {},
   "outputs": [
    {
     "name": "stdout",
     "output_type": "stream",
     "text": [
      "Total number of tweets:  256539\n"
     ]
    }
   ],
   "source": [
    "# Count tweets\n",
    "\n",
    "NumTweets = 0                                                      # Loop simply runs through each row (tweet) and counts\n",
    "with open('HeatBotCSV.csv', 'r', encoding='utf-8') as current:\n",
    "    reader = csv.reader(current)\n",
    "    for line in reader:\n",
    "        NumTweets += 1\n",
    "        \n",
    "print('Total number of tweets: ', NumTweets)"
   ]
  },
  {
   "cell_type": "markdown",
   "metadata": {},
   "source": [
    "## Relevance Checks\n",
    "- Weather Station filter\n",
    "- Unrelated terms filter"
   ]
  },
  {
   "cell_type": "markdown",
   "metadata": {},
   "source": [
    "#### Weather station filter\n",
    "\n",
    "- Removes tweets with more than two weather terms\n",
    "- Wind, Barometer, Temperature, Rain, Humidity"
   ]
  },
  {
   "cell_type": "code",
   "execution_count": 51,
   "metadata": {},
   "outputs": [],
   "source": [
    "test_list = ['Wind', 'Barometer', 'Temperature', 'Rain', 'Humidity', 'wind', 'barometer', 'temperature', 'rain', 'humidity']"
   ]
  },
  {
   "cell_type": "code",
   "execution_count": 53,
   "metadata": {},
   "outputs": [],
   "source": [
    "if os.path.exists('HeatFilter1CSV.csv'):                                                # Prevents overlap of files\n",
    "    os.remove('HeatFilter1CSV.csv')\n",
    "\n",
    "with open('HeatFilter1CSV.csv', \"a+\", encoding='utf-8', newline='') as csvfile:         # Loop for all files in File_Locations\n",
    "    writer = csv.writer(csvfile)\n",
    "\n",
    "    with open('HeatBotCSV.csv','r', encoding='utf-8') as csvfile:       # Run through lines of csv\n",
    "        read = csv.reader(csvfile)\n",
    "        for line in read:\n",
    "            test_string = line[text]\n",
    "            count = 0\n",
    "            for word in test_list:\n",
    "                res = word in test_string\n",
    "                if str(bool(res)) == 'True':\n",
    "                    count = count + 1\n",
    "            if count < 3: \n",
    "                writer.writerow(line)"
   ]
  },
  {
   "cell_type": "code",
   "execution_count": 54,
   "metadata": {},
   "outputs": [
    {
     "name": "stdout",
     "output_type": "stream",
     "text": [
      "Total number of tweets:  256522\n"
     ]
    }
   ],
   "source": [
    "# Count tweets\n",
    "\n",
    "NumTweets = 0                                                      # Loop simply runs through each row (tweet) and counts\n",
    "with open('HeatFilter1CSV.csv', 'r', encoding='utf-8') as current:\n",
    "    reader = csv.reader(current)\n",
    "    for line in reader:\n",
    "        NumTweets += 1\n",
    "        \n",
    "print('Total number of tweets: ', NumTweets)"
   ]
  },
  {
   "cell_type": "markdown",
   "metadata": {},
   "source": [
    "#### Unrealated terms filter\n",
    "- Think of some phrases not related to the weather that have the search words in\n",
    "- Words containing search words: 'theatre', 'cheat' etc.\n",
    "- Music/phrases :'love drought', 'EXO', songs by Heatwave - Thought about removing wiley but people often tweet about this song in relation to the weather.\n",
    "- Looking at the tweets radio stations often write 'NOW PLAYING' this is something I could filter out\n",
    "- Tweets with colons tend to be news or radio etc - genuine accounts don't seems to use colons (although emoticons!)"
   ]
  },
  {
   "cell_type": "code",
   "execution_count": 55,
   "metadata": {},
   "outputs": [],
   "source": [
    "test_list = ['love drought', 'theatre', 'cheat', 'Love Drought', 'Theatre', 'Cheat', \n",
    "            'EXO', 'exo', 'Now Playing', 'NOW PLAYING', 'grooveline', 'Groove Line', 'Boogie Nights', 'boogie nights',\n",
    "            'always and forever', 'gangsters of the groove', 'meme drought', 'meme-drought', 'content drought', \n",
    "            'content-drought', 'It’s a drought ‘round here, pussy went up', 'City Girls', 'Tighten Up', 'chilli heatwave',\n",
    "             'doritos']"
   ]
  },
  {
   "cell_type": "code",
   "execution_count": 56,
   "metadata": {},
   "outputs": [],
   "source": [
    "if os.path.exists('HeatFilter2CSV.csv'):                                                # Prevents overlap of files\n",
    "    os.remove('HeatFilter2CSV.csv')\n",
    "\n",
    "with open('HeatFilter2CSV.csv', \"a+\", encoding='utf-8', newline='') as csvfile:         # Loop for all files in File_Locations\n",
    "    writer = csv.writer(csvfile)\n",
    "\n",
    "    with open('HeatFilter1CSV.csv','r', encoding='utf-8') as csvfile:       # Run through lines of csv\n",
    "        read = csv.reader(csvfile)\n",
    "        for line in read:\n",
    "            test_string = line[text]\n",
    "            \n",
    "            res = [ele for ele in test_list if(ele in test_string)]\n",
    "            if str(bool(res)) == 'False':\n",
    "                writer.writerow(line)"
   ]
  },
  {
   "cell_type": "code",
   "execution_count": 57,
   "metadata": {},
   "outputs": [
    {
     "name": "stdout",
     "output_type": "stream",
     "text": [
      "Total number of tweets:  253088\n"
     ]
    }
   ],
   "source": [
    "# Count tweets\n",
    "\n",
    "NumTweets = 0                                                      # Loop simply runs through each row (tweet) and counts\n",
    "with open('HeatFilter2CSV.csv', 'r', encoding='utf-8') as current:\n",
    "    reader = csv.reader(current)\n",
    "    for line in reader:\n",
    "        NumTweets += 1\n",
    "        \n",
    "print('Total number of tweets: ', NumTweets)"
   ]
  },
  {
   "cell_type": "markdown",
   "metadata": {},
   "source": [
    "#### Drought filter:\n",
    "\n",
    "After going through and classifying some tweets it was found drought tweets tended to be irrelavent to heat and so these were removed"
   ]
  },
  {
   "cell_type": "code",
   "execution_count": 58,
   "metadata": {},
   "outputs": [],
   "source": [
    "test_list = ['drought', 'Drought']"
   ]
  },
  {
   "cell_type": "code",
   "execution_count": 59,
   "metadata": {},
   "outputs": [],
   "source": [
    "if os.path.exists('HeatFilter2.1CSV.csv'):                                                # Prevents overlap of files\n",
    "    os.remove('HeatFilter2.1CSV.csv')\n",
    "\n",
    "with open('HeatFilter2.1CSV.csv', \"a+\", encoding='utf-8', newline='') as csvfile:         # Loop for all files in File_Locations\n",
    "    writer = csv.writer(csvfile)\n",
    "\n",
    "    with open('HeatFilter2CSV.csv','r', encoding='utf-8') as csvfile:       # Run through lines of csv\n",
    "        read = csv.reader(csvfile)\n",
    "        for line in read:\n",
    "            test_string = line[text]\n",
    "            \n",
    "            res = [ele for ele in test_list if(ele in test_string)]\n",
    "            if str(bool(res)) == 'False':\n",
    "                writer.writerow(line)"
   ]
  },
  {
   "cell_type": "code",
   "execution_count": 60,
   "metadata": {},
   "outputs": [
    {
     "name": "stdout",
     "output_type": "stream",
     "text": [
      "Total number of tweets:  155885\n"
     ]
    }
   ],
   "source": [
    "# Count tweets\n",
    "\n",
    "NumTweets = 0                                                      # Loop simply runs through each row (tweet) and counts\n",
    "with open('HeatFilter2.1CSV.csv', 'r', encoding='utf-8') as current:\n",
    "    reader = csv.reader(current)\n",
    "    for line in reader:\n",
    "        NumTweets += 1\n",
    "        \n",
    "print('Total number of tweets: ', NumTweets)"
   ]
  },
  {
   "cell_type": "markdown",
   "metadata": {},
   "source": [
    "#### Bayes Classifier:\n",
    "\n"
   ]
  },
  {
   "cell_type": "code",
   "execution_count": 415,
   "metadata": {},
   "outputs": [
    {
     "name": "stdout",
     "output_type": "stream",
     "text": [
      "1% sample size:  26\n"
     ]
    }
   ],
   "source": [
    "print('1% sample size: ',  int(NumTweets/100))"
   ]
  },
  {
   "cell_type": "code",
   "execution_count": 416,
   "metadata": {},
   "outputs": [],
   "source": [
    "L = list(range(0, NumTweets))\n",
    "sample = random.sample(L, int(NumTweets/100))"
   ]
  },
  {
   "cell_type": "code",
   "execution_count": 417,
   "metadata": {},
   "outputs": [],
   "source": [
    "i = 0\n",
    "\n",
    "if os.path.exists('HeatTrainCSV.csv'):                                                # Prevents overlap of files\n",
    "    os.remove('HeatTrainCSV.csv')\n",
    "\n",
    "if os.path.exists('HeatUnlabeledCSV.csv'):                                                # Prevents overlap of files\n",
    "    os.remove('HeatUnlabeledCSV.csv')\n",
    "\n",
    "with open('HeatTrainCSV.csv', \"a+\", encoding='utf-8', newline='') as csvfile1:         # Loop for all files in File_Locations\n",
    "    writer1 = csv.writer(csvfile1)\n",
    "    \n",
    "    with open('HeatUnlabeledCSV.csv', \"a+\", encoding='utf-8', newline='') as csvfile2:         # Loop for all files in File_Locations\n",
    "        writer2 = csv.writer(csvfile2)\n",
    "\n",
    "        with open('HeatFilter2.1CSV.csv','r', encoding='utf-8') as csvfile:       # Run through lines of csv\n",
    "            read = csv.reader(csvfile)\n",
    "            for line in read:\n",
    "            \n",
    "                if i in sample:\n",
    "                    writer1.writerow(line + [0])\n",
    "                else:\n",
    "                    writer2.writerow(line + [0])\n",
    "                \n",
    "                i = i+1"
   ]
  },
  {
   "cell_type": "markdown",
   "metadata": {},
   "source": [
    "**Go through a change relevant tweets from 0 to 1.** Need to come up with a definition of relevent."
   ]
  },
  {
   "cell_type": "code",
   "execution_count": 418,
   "metadata": {},
   "outputs": [
    {
     "name": "stderr",
     "output_type": "stream",
     "text": [
      "[nltk_data] Downloading package stopwords to\n",
      "[nltk_data]     C:\\Users\\beckr\\AppData\\Roaming\\nltk_data...\n",
      "[nltk_data]   Package stopwords is already up-to-date!\n"
     ]
    },
    {
     "data": {
      "text/plain": [
       "{'a',\n",
       " 'about',\n",
       " 'above',\n",
       " 'after',\n",
       " 'again',\n",
       " 'against',\n",
       " 'ain',\n",
       " 'all',\n",
       " 'am',\n",
       " 'an',\n",
       " 'and',\n",
       " 'any',\n",
       " 'are',\n",
       " 'aren',\n",
       " \"aren't\",\n",
       " 'as',\n",
       " 'at',\n",
       " 'be',\n",
       " 'because',\n",
       " 'been',\n",
       " 'before',\n",
       " 'being',\n",
       " 'below',\n",
       " 'between',\n",
       " 'both',\n",
       " 'but',\n",
       " 'by',\n",
       " 'can',\n",
       " 'couldn',\n",
       " \"couldn't\",\n",
       " 'd',\n",
       " 'did',\n",
       " 'didn',\n",
       " \"didn't\",\n",
       " 'do',\n",
       " 'does',\n",
       " 'doesn',\n",
       " \"doesn't\",\n",
       " 'doing',\n",
       " 'don',\n",
       " \"don't\",\n",
       " 'down',\n",
       " 'during',\n",
       " 'each',\n",
       " 'few',\n",
       " 'for',\n",
       " 'from',\n",
       " 'further',\n",
       " 'had',\n",
       " 'hadn',\n",
       " \"hadn't\",\n",
       " 'has',\n",
       " 'hasn',\n",
       " \"hasn't\",\n",
       " 'have',\n",
       " 'haven',\n",
       " \"haven't\",\n",
       " 'having',\n",
       " 'he',\n",
       " 'her',\n",
       " 'here',\n",
       " 'hers',\n",
       " 'herself',\n",
       " 'him',\n",
       " 'himself',\n",
       " 'his',\n",
       " 'how',\n",
       " 'i',\n",
       " 'if',\n",
       " 'in',\n",
       " 'into',\n",
       " 'is',\n",
       " 'isn',\n",
       " \"isn't\",\n",
       " 'it',\n",
       " \"it's\",\n",
       " 'its',\n",
       " 'itself',\n",
       " 'just',\n",
       " 'll',\n",
       " 'm',\n",
       " 'ma',\n",
       " 'me',\n",
       " 'mightn',\n",
       " \"mightn't\",\n",
       " 'more',\n",
       " 'most',\n",
       " 'mustn',\n",
       " \"mustn't\",\n",
       " 'my',\n",
       " 'myself',\n",
       " 'needn',\n",
       " \"needn't\",\n",
       " 'no',\n",
       " 'nor',\n",
       " 'not',\n",
       " 'now',\n",
       " 'o',\n",
       " 'of',\n",
       " 'off',\n",
       " 'on',\n",
       " 'once',\n",
       " 'only',\n",
       " 'or',\n",
       " 'other',\n",
       " 'our',\n",
       " 'ours',\n",
       " 'ourselves',\n",
       " 'out',\n",
       " 'over',\n",
       " 'own',\n",
       " 're',\n",
       " 's',\n",
       " 'same',\n",
       " 'shan',\n",
       " \"shan't\",\n",
       " 'she',\n",
       " \"she's\",\n",
       " 'should',\n",
       " \"should've\",\n",
       " 'shouldn',\n",
       " \"shouldn't\",\n",
       " 'so',\n",
       " 'some',\n",
       " 'such',\n",
       " 't',\n",
       " 'than',\n",
       " 'that',\n",
       " \"that'll\",\n",
       " 'the',\n",
       " 'their',\n",
       " 'theirs',\n",
       " 'them',\n",
       " 'themselves',\n",
       " 'then',\n",
       " 'there',\n",
       " 'these',\n",
       " 'they',\n",
       " 'this',\n",
       " 'those',\n",
       " 'through',\n",
       " 'to',\n",
       " 'too',\n",
       " 'under',\n",
       " 'until',\n",
       " 'up',\n",
       " 've',\n",
       " 'very',\n",
       " 'was',\n",
       " 'wasn',\n",
       " \"wasn't\",\n",
       " 'we',\n",
       " 'were',\n",
       " 'weren',\n",
       " \"weren't\",\n",
       " 'what',\n",
       " 'when',\n",
       " 'where',\n",
       " 'which',\n",
       " 'while',\n",
       " 'who',\n",
       " 'whom',\n",
       " 'why',\n",
       " 'will',\n",
       " 'with',\n",
       " 'won',\n",
       " \"won't\",\n",
       " 'wouldn',\n",
       " \"wouldn't\",\n",
       " 'y',\n",
       " 'you',\n",
       " \"you'd\",\n",
       " \"you'll\",\n",
       " \"you're\",\n",
       " \"you've\",\n",
       " 'your',\n",
       " 'yours',\n",
       " 'yourself',\n",
       " 'yourselves'}"
      ]
     },
     "execution_count": 418,
     "metadata": {},
     "output_type": "execute_result"
    }
   ],
   "source": [
    "nltk.download('stopwords')\n",
    "\n",
    "set(stopwords.words('english'))"
   ]
  },
  {
   "cell_type": "code",
   "execution_count": 419,
   "metadata": {},
   "outputs": [],
   "source": [
    "## First we clean the data - remove punctuation make lowercase and tokenize\n",
    "\n",
    "\n",
    "df_train = pd.DataFrame(columns=['Words', 'Label'])\n",
    "\n",
    "with open('HeatTrain0CSV.csv','r', encoding='utf-8') as csvfile:       # Run through lines of csv\n",
    "    read = csv.reader(csvfile)\n",
    "    for line in read:\n",
    "        \n",
    "        Text = line[text]\n",
    "        \n",
    "        Text = re.sub(r\"http\\S+\", \"\", Text)\n",
    "        Text = Text.translate(str.maketrans('', '', string.punctuation))\n",
    "        Text = Text.encode('ascii', 'ignore').decode('ascii')\n",
    "        Text = Text.lower()\n",
    "        Text = Text.split(' ') \n",
    "        Text = [word for word in Text if word not in stopwords.words('english')]\n",
    "        \n",
    "        df_train = df_train.append({'Words': Text, 'Label' : line[label]}, ignore_index=True)\n",
    "        \n",
    "with open('HeatTrain1CSV.csv','r', encoding='utf-8') as csvfile:       # Run through lines of csv\n",
    "    read = csv.reader(csvfile)\n",
    "    for line in read:\n",
    "        \n",
    "        Text = line[4]\n",
    "        \n",
    "        Text = re.sub(r\"http\\S+\", \"\", Text)\n",
    "        Text = Text.translate(str.maketrans('', '', string.punctuation))\n",
    "        Text = Text.encode('ascii', 'ignore').decode('ascii')\n",
    "        Text = Text.lower()\n",
    "        Text = Text.split(' ') \n",
    "        Text = [word for word in Text if word not in stopwords.words('english')]\n",
    "        \n",
    "        df_train = df_train.append({'Words': Text, 'Label' : line[6]}, ignore_index=True)\n",
    "        \n",
    "with open('HeatTrain2CSV.csv','r', encoding='utf-8') as csvfile:       # Run through lines of csv\n",
    "    read = csv.reader(csvfile)\n",
    "    for line in read:\n",
    "        \n",
    "        Text = line[6]\n",
    "        \n",
    "        Text = re.sub(r\"http\\S+\", \"\", Text)\n",
    "        Text = Text.translate(str.maketrans('', '', string.punctuation))\n",
    "        Text = Text.encode('ascii', 'ignore').decode('ascii')\n",
    "        Text = Text.lower()\n",
    "        Text = Text.split(' ') \n",
    "        Text = [word for word in Text if word not in stopwords.words('english')]\n",
    "        \n",
    "        df_train = df_train.append({'Words': Text, 'Label' : line[8]}, ignore_index=True)"
   ]
  },
  {
   "cell_type": "code",
   "execution_count": 420,
   "metadata": {},
   "outputs": [],
   "source": [
    "WORDS = df_train['Words']\n",
    "\n",
    "word_counts = {}\n",
    "\n",
    "for words in WORDS:\n",
    "    for word in words:\n",
    "        word_counts[word] = word_counts.get(word, 0.0) + 1.0"
   ]
  },
  {
   "cell_type": "code",
   "execution_count": 421,
   "metadata": {},
   "outputs": [],
   "source": [
    "del word_counts['']"
   ]
  },
  {
   "cell_type": "code",
   "execution_count": 422,
   "metadata": {},
   "outputs": [],
   "source": [
    "wordlist = (dict(sorted(word_counts.items(), key=lambda x: x[1], reverse=True)[:200])).keys()\n",
    "wordlist = list(wordlist)"
   ]
  },
  {
   "cell_type": "code",
   "execution_count": 423,
   "metadata": {},
   "outputs": [],
   "source": [
    "df_train['word_vec'] = \"\"\n",
    "\n",
    "length = len(df_train)\n",
    "\n",
    "for i in range(length):\n",
    "    line  = df_train.iloc[i]\n",
    "    Text = line['Words']\n",
    "    vec = np.zeros(len(wordlist))\n",
    "    \n",
    "    for j in range(len(wordlist)):\n",
    "        testword = wordlist[j]\n",
    "        vec[j] = Text.count(testword)\n",
    "        \n",
    "    df_train.iloc[i, -1] = vec\n",
    "        \n",
    "\n",
    "df_train = df_train[['Words', 'word_vec', 'Label']]"
   ]
  },
  {
   "cell_type": "code",
   "execution_count": 424,
   "metadata": {},
   "outputs": [],
   "source": [
    "savedata = {}\n",
    "savedata['table_train'] = df_train\n",
    "\n",
    "with open('df_train.pkl', 'wb') as outfile:\n",
    "    pickle.dump(savedata, outfile)"
   ]
  },
  {
   "cell_type": "code",
   "execution_count": 425,
   "metadata": {},
   "outputs": [
    {
     "data": {
      "text/html": [
       "<div>\n",
       "<style scoped>\n",
       "    .dataframe tbody tr th:only-of-type {\n",
       "        vertical-align: middle;\n",
       "    }\n",
       "\n",
       "    .dataframe tbody tr th {\n",
       "        vertical-align: top;\n",
       "    }\n",
       "\n",
       "    .dataframe thead th {\n",
       "        text-align: right;\n",
       "    }\n",
       "</style>\n",
       "<table border=\"1\" class=\"dataframe\">\n",
       "  <thead>\n",
       "    <tr style=\"text-align: right;\">\n",
       "      <th></th>\n",
       "      <th>Words</th>\n",
       "      <th>word_vec</th>\n",
       "      <th>Label</th>\n",
       "    </tr>\n",
       "  </thead>\n",
       "  <tbody>\n",
       "    <tr>\n",
       "      <th>0</th>\n",
       "      <td>[howardneil123, lamar8686, fleeing, eritrea, u...</td>\n",
       "      <td>[0.0, 0.0, 0.0, 0.0, 0.0, 0.0, 0.0, 0.0, 0.0, ...</td>\n",
       "      <td>0</td>\n",
       "    </tr>\n",
       "    <tr>\n",
       "      <th>1</th>\n",
       "      <td>[morocco, finactu, group, announced, chosen, m...</td>\n",
       "      <td>[0.0, 0.0, 0.0, 0.0, 0.0, 0.0, 0.0, 0.0, 0.0, ...</td>\n",
       "      <td>0</td>\n",
       "    </tr>\n",
       "    <tr>\n",
       "      <th>2</th>\n",
       "      <td>[zimbabwe, livelihood, food, nutrition, securi...</td>\n",
       "      <td>[0.0, 0.0, 0.0, 0.0, 0.0, 0.0, 0.0, 0.0, 0.0, ...</td>\n",
       "      <td>0</td>\n",
       "    </tr>\n",
       "    <tr>\n",
       "      <th>3</th>\n",
       "      <td>[konsolegroup, ]</td>\n",
       "      <td>[0.0, 0.0, 0.0, 0.0, 0.0, 0.0, 0.0, 0.0, 0.0, ...</td>\n",
       "      <td>0</td>\n",
       "    </tr>\n",
       "    <tr>\n",
       "      <th>4</th>\n",
       "      <td>[cfamembers, issues, haystack, warning, heatwa...</td>\n",
       "      <td>[1.0, 0.0, 0.0, 0.0, 0.0, 0.0, 0.0, 0.0, 0.0, ...</td>\n",
       "      <td>1</td>\n",
       "    </tr>\n",
       "  </tbody>\n",
       "</table>\n",
       "</div>"
      ],
      "text/plain": [
       "                                               Words  \\\n",
       "0  [howardneil123, lamar8686, fleeing, eritrea, u...   \n",
       "1  [morocco, finactu, group, announced, chosen, m...   \n",
       "2  [zimbabwe, livelihood, food, nutrition, securi...   \n",
       "3                                   [konsolegroup, ]   \n",
       "4  [cfamembers, issues, haystack, warning, heatwa...   \n",
       "\n",
       "                                            word_vec Label  \n",
       "0  [0.0, 0.0, 0.0, 0.0, 0.0, 0.0, 0.0, 0.0, 0.0, ...     0  \n",
       "1  [0.0, 0.0, 0.0, 0.0, 0.0, 0.0, 0.0, 0.0, 0.0, ...     0  \n",
       "2  [0.0, 0.0, 0.0, 0.0, 0.0, 0.0, 0.0, 0.0, 0.0, ...     0  \n",
       "3  [0.0, 0.0, 0.0, 0.0, 0.0, 0.0, 0.0, 0.0, 0.0, ...     0  \n",
       "4  [1.0, 0.0, 0.0, 0.0, 0.0, 0.0, 0.0, 0.0, 0.0, ...     1  "
      ]
     },
     "execution_count": 425,
     "metadata": {},
     "output_type": "execute_result"
    }
   ],
   "source": [
    "with open('df_train.pkl', 'rb') as infile:\n",
    "    loaddata = pickle.load(infile)\n",
    "\n",
    "df_train = loaddata['table_train']\n",
    "df_train.head()"
   ]
  },
  {
   "cell_type": "code",
   "execution_count": 426,
   "metadata": {},
   "outputs": [],
   "source": [
    "X = df_train['word_vec'].values.tolist()\n",
    "Y = pd.DataFrame.to_numpy(df_train['Label'])\n",
    "\n",
    "Y = [int(i) for i in Y]"
   ]
  },
  {
   "cell_type": "code",
   "execution_count": 427,
   "metadata": {},
   "outputs": [],
   "source": [
    "prob = sum(Y)/len(Y)"
   ]
  },
  {
   "cell_type": "code",
   "execution_count": 428,
   "metadata": {},
   "outputs": [],
   "source": [
    "x_train, x_test, y_train, y_test = train_test_split(X, Y, test_size=0.3, random_state=42)"
   ]
  },
  {
   "cell_type": "code",
   "execution_count": 429,
   "metadata": {},
   "outputs": [
    {
     "data": {
      "text/plain": [
       "MultinomialNB(fit_prior=False)"
      ]
     },
     "execution_count": 429,
     "metadata": {},
     "output_type": "execute_result"
    }
   ],
   "source": [
    "naive_bayes = MultinomialNB(fit_prior = False)\n",
    "naive_bayes.fit(x_train, y_train)"
   ]
  },
  {
   "cell_type": "code",
   "execution_count": 430,
   "metadata": {},
   "outputs": [
    {
     "data": {
      "text/plain": [
       "0.7192622950819673"
      ]
     },
     "execution_count": 430,
     "metadata": {},
     "output_type": "execute_result"
    }
   ],
   "source": [
    "naive_bayes.score(x_train, y_train)"
   ]
  },
  {
   "cell_type": "code",
   "execution_count": 431,
   "metadata": {},
   "outputs": [
    {
     "name": "stdout",
     "output_type": "stream",
     "text": [
      "0.6792352628783855\n",
      "0.6961770623742455\n"
     ]
    }
   ],
   "source": [
    "y_pred = naive_bayes.predict(x_test)\n",
    "print(naive_bayes.score(x_test, y_test))\n",
    "print(f1_score(y_test, y_pred))"
   ]
  },
  {
   "cell_type": "code",
   "execution_count": 432,
   "metadata": {},
   "outputs": [
    {
     "name": "stdout",
     "output_type": "stream",
     "text": [
      "[[587 313]\n",
      " [291 692]]\n"
     ]
    }
   ],
   "source": [
    "confusionMatrix = confusion_matrix(y_test, y_pred)\n",
    "print(confusionMatrix)"
   ]
  },
  {
   "cell_type": "markdown",
   "metadata": {},
   "source": [
    "Decent accuracy - predict for remaining data:"
   ]
  },
  {
   "cell_type": "code",
   "execution_count": 433,
   "metadata": {},
   "outputs": [
    {
     "data": {
      "text/plain": [
       "MultinomialNB(fit_prior=False)"
      ]
     },
     "execution_count": 433,
     "metadata": {},
     "output_type": "execute_result"
    }
   ],
   "source": [
    "naive_bayes.fit(X, Y)"
   ]
  },
  {
   "cell_type": "code",
   "execution_count": 434,
   "metadata": {},
   "outputs": [],
   "source": [
    "if os.path.exists('HeatUnlabeled2CSV.csv'):                                                # Prevents overlap of files\n",
    "    os.remove('HeatUnlabeled2CSV.csv')\n",
    "\n",
    "with open('HeatUnlabeled2CSV.csv', \"a+\", encoding='utf-8', newline='') as csvfile:         # Loop for all files in File_Locations\n",
    "    writer = csv.writer(csvfile)\n",
    "\n",
    "    with open('HeatUnlabeledCSV.csv','r', encoding='utf-8') as csvfile:       # Run through lines of csv\n",
    "        read = csv.reader(csvfile)\n",
    "        for line in read:\n",
    "            \n",
    "            Text = line[text]\n",
    "                \n",
    "            Text = re.sub(r\"http\\S+\", \"\", Text)\n",
    "            Text = Text.translate(str.maketrans('', '', string.punctuation))\n",
    "            Text = Text.encode('ascii', 'ignore').decode('ascii')\n",
    "            Text = Text.lower()\n",
    "            Text = Text.split(' ')             \n",
    "            \n",
    "            \n",
    "            writer.writerow([Text])\n",
    "            "
   ]
  },
  {
   "cell_type": "code",
   "execution_count": 435,
   "metadata": {},
   "outputs": [],
   "source": [
    "y = []\n",
    "\n",
    "with open('HeatUnlabeled2CSV.csv','r', encoding='utf-8') as csvfile:\n",
    "    read = csv.reader(csvfile)\n",
    "    for line in read:        \n",
    "        Text = line[0]\n",
    "        \n",
    "        vec = [0]*len(wordlist)\n",
    "    \n",
    "        for j in range(len(wordlist)):\n",
    "            testword = wordlist[j]\n",
    "            vec[j] = Text.count(testword)\n",
    "        \n",
    "        x = np.asarray(vec)\n",
    "        y_pred = naive_bayes.predict(x.reshape(1, -1))\n",
    "        y = np.append(y, y_pred)       "
   ]
  },
  {
   "cell_type": "code",
   "execution_count": 436,
   "metadata": {},
   "outputs": [],
   "source": [
    "if os.path.exists('HeatFilter3CSV.csv'):                                                # Prevents overlap of files\n",
    "    os.remove('HeatFilter3CSV.csv')\n",
    "\n",
    "with open('HeatFilter3CSV.csv', \"a+\", encoding='utf-8', newline='') as csvfile:         # Loop for all files in File_Locations\n",
    "    writer = csv.writer(csvfile)\n",
    "\n",
    "    with open('HeatTrain0CSV.csv','r', encoding='utf-8') as csvfile:       # Run through lines of csv\n",
    "        read = csv.reader(csvfile)\n",
    "        i = 0\n",
    "        for line in read:\n",
    "            if Y[i] == 1:\n",
    "                writer.writerow(line[0:-1])\n",
    "            i = i+1\n",
    "    with open('HeatUnlabeledCSV.csv','r', encoding='utf-8') as csvfile:       # Run through lines of csv\n",
    "        read = csv.reader(csvfile)\n",
    "        i = 0\n",
    "        for line in read:\n",
    "            if y[i] == 1.:\n",
    "                writer.writerow(line[0:-1])\n",
    "            i = i+1"
   ]
  },
  {
   "cell_type": "code",
   "execution_count": 437,
   "metadata": {},
   "outputs": [
    {
     "name": "stdout",
     "output_type": "stream",
     "text": [
      "Total number of tweets:  54056\n"
     ]
    }
   ],
   "source": [
    "# Count tweets\n",
    "\n",
    "NumTweets = 0                                                      # Loop simply runs through each row (tweet) and counts\n",
    "with open('HeatFilter3CSV.csv', 'r', encoding='utf-8') as current:\n",
    "    reader = csv.reader(current)\n",
    "    for line in reader:\n",
    "        NumTweets += 1\n",
    "        \n",
    "print('Total number of tweets: ', NumTweets)"
   ]
  },
  {
   "cell_type": "code",
   "execution_count": 438,
   "metadata": {},
   "outputs": [
    {
     "data": {
      "text/plain": [
       "3225"
      ]
     },
     "execution_count": 438,
     "metadata": {},
     "output_type": "execute_result"
    }
   ],
   "source": [
    "sum(Y)"
   ]
  },
  {
   "cell_type": "markdown",
   "metadata": {},
   "source": [
    "#### Time series \n",
    "We plot a time series to show how this looks after filtering (hopefully more defined):"
   ]
  },
  {
   "cell_type": "code",
   "execution_count": 439,
   "metadata": {},
   "outputs": [],
   "source": [
    "tweetcount = Counter()                                              # Initialise counter\n",
    "with open('Heatfilter3CSV.csv','r', encoding='utf-8') as csvfile:       # Run through lines of csv\n",
    "    read = csv.reader(csvfile)\n",
    "    for line in read:\n",
    "        ts = literal_eval(line[timestamp])/1000                              # Convert timestamps to ms                     \n",
    "        Date = datetime.utcfromtimestamp(ts).date()                 # Turn ts into date\n",
    "        tweetcount[Date] +=1"
   ]
  },
  {
   "cell_type": "code",
   "execution_count": 440,
   "metadata": {},
   "outputs": [
    {
     "data": {
      "image/png": "[encoded data removed]",
      "text/plain": [
       "<Figure size 1296x360 with 1 Axes>"
      ]
     },
     "metadata": {
      "needs_background": "light"
     },
     "output_type": "display_data"
    }
   ],
   "source": [
    "lists = sorted(tweetcount.items())                                  # Sorting and seperating the data\n",
    "day, quant = zip(*lists)\n",
    "\n",
    "plt.figure(figsize = [18,5])\n",
    "plt.plot(day,quant)\n",
    "plt.title('Timeseries plot of date to daily tweet count', size = 13)\n",
    "plt.xlabel('Date')\n",
    "plt.ylabel('Tweet count')\n",
    "plt.show()"
   ]
  },
  {
   "cell_type": "markdown",
   "metadata": {},
   "source": [
    "Similar shape but more defined. Around 10 times less tweet when noise is removed."
   ]
  },
  {
   "cell_type": "code",
   "execution_count": 441,
   "metadata": {},
   "outputs": [],
   "source": [
    "tweetcount = Counter()                                              # Initialise counter\n",
    "with open('HeatFilter3CSV.csv','r', encoding='utf-8') as csvfile:       # Run through lines of csv\n",
    "    read = csv.reader(csvfile)\n",
    "    for line in read:\n",
    "        ts = literal_eval(line[timestamp])/1000                              # Convert timestamps to ms                     \n",
    "        Date = datetime.utcfromtimestamp(ts).date()                 # Turn ts into date\n",
    "        tweetcount[Date] +=1"
   ]
  },
  {
   "cell_type": "code",
   "execution_count": 442,
   "metadata": {},
   "outputs": [],
   "source": [
    "df = pd.DataFrame.from_dict(tweetcount, orient = 'index')\n",
    "df.index.name = 'Date'\n",
    "df['sent'] = 0\n",
    "\n",
    "with open('HeatFilter3CSV.csv','r', encoding='utf-8') as csvfile:       # Run through lines of csv\n",
    "    read = csv.reader(csvfile)\n",
    "    for line in read:\n",
    "        ts = int(literal_eval(line[timestamp]))/1000                              # Convert timestamps to ms                     \n",
    "        Date = (datetime.utcfromtimestamp(ts).date())                 # Turn ts into date\n",
    "        df.loc[Date, 'sent'] = df.at[Date, 'sent'] + float(line[sentiment])\n",
    "        \n",
    "df['sent']=df['sent']/df[0]"
   ]
  },
  {
   "cell_type": "code",
   "execution_count": 443,
   "metadata": {},
   "outputs": [
    {
     "data": {
      "image/png": "[encoded data removed]",
      "text/plain": [
       "<Figure size 1296x360 with 1 Axes>"
      ]
     },
     "metadata": {
      "needs_background": "light"
     },
     "output_type": "display_data"
    }
   ],
   "source": [
    "df = df.reset_index()\n",
    "df = df.sort_values(by='Date')\n",
    "\n",
    "plt.figure(figsize = [18,5])\n",
    "plt.plot(df['Date'],df['sent'])\n",
    "plt.title('Timeseries plot of date to daily average sentiment', size = 13)\n",
    "plt.xlabel('Date')\n",
    "plt.ylabel('Sentiment')\n",
    "plt.show()"
   ]
  },
  {
   "cell_type": "code",
   "execution_count": null,
   "metadata": {},
   "outputs": [],
   "source": []
  },
  {
   "cell_type": "code",
   "execution_count": null,
   "metadata": {},
   "outputs": [],
   "source": []
  }
 ],
 "metadata": {
  "kernelspec": {
   "display_name": "Python 3",
   "language": "python",
   "name": "python3"
  },
  "language_info": {
   "codemirror_mode": {
    "name": "ipython",
    "version": 3
   },
   "file_extension": ".py",
   "mimetype": "text/x-python",
   "name": "python",
   "nbconvert_exporter": "python",
   "pygments_lexer": "ipython3",
   "version": "3.7.7"
  }
 },
 "nbformat": 4,
 "nbformat_minor": 2
}
