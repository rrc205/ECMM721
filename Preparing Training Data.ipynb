{
 "cells": [
  {
   "cell_type": "markdown",
   "metadata": {},
   "source": [
    "## Preparing Training Data\n",
    "\n",
    "- Throughout the project I have labelled different data at different stages. I wish to combine all of these to maximise the data my model can learn from!"
   ]
  },
  {
   "cell_type": "code",
   "execution_count": 2,
   "metadata": {},
   "outputs": [],
   "source": [
    "## Import libraries\n",
    "\n",
    "import matplotlib.pyplot as plt                               # Used for plotting data\n",
    "from collections import Counter                               # This is used to count occurances of values\n",
    "import pandas as pd                                           # Used for cleanly displaying data\n",
    "import numpy as np                                            # Collection of mathematical functions\n",
    "import tarfile                                                # Used for extracting files\n",
    "import json                                                   # Processing individual JSON files uses this\n",
    "import csv                                                    # This was used to create and read csvs\n",
    "import string\n",
    "import pickle\n",
    "import os                                                     # This helped locate and delete json files\n",
    "import re\n",
    "import random\n",
    "from ast import literal_eval                                  # Used to convert strings to dict\n",
    "from datetime import datetime                                 # This processes different date formats\n",
    "from pandas.plotting import register_matplotlib_converters    # This had to be registered to allow for timeseries plots\n",
    "from vaderSentiment.vaderSentiment import SentimentIntensityAnalyzer\n",
    "from emoji import demojize\n",
    "from langdetect import detect\n",
    "from multiprocessing import Process\n",
    "import cartopy.crs as ccrs\n",
    "import cartopy.feature as cfeature\n",
    "import matplotlib.pyplot as plt\n",
    "import cartopy.io.img_tiles as cimgt\n",
    "from matplotlib.patches import Rectangle\n",
    "from sklearn.model_selection import train_test_split\n",
    "from sklearn.naive_bayes import MultinomialNB\n",
    "from sklearn.metrics import f1_score\n",
    "from sklearn.metrics import accuracy_score\n",
    "from sklearn.metrics import  confusion_matrix\n",
    "register_matplotlib_converters()\n",
    "pd.set_option('display.max_rows', 10)                         # Setting displayed panda length"
   ]
  },
  {
   "cell_type": "code",
   "execution_count": 3,
   "metadata": {},
   "outputs": [],
   "source": [
    "test_list = ['drought', 'Drought']\n",
    "\n",
    "if os.path.exists('HeatTrain1CSV.csv'):                                                # Prevents overlap of files\n",
    "    os.remove('HeatTrain1CSV.csv')\n",
    "\n",
    "with open('HeatTrain1CSV.csv', \"a+\", encoding='utf-8', newline='') as csvfile:         # Loop for all files in File_Locations\n",
    "    writer = csv.writer(csvfile)\n",
    "\n",
    "    with open('HeatTrain1oldCSV.csv','r', encoding='utf-8') as csvfile:       # Run through lines of csv\n",
    "        read = csv.reader(csvfile)\n",
    "        for line in read:\n",
    "            test_string = line[4]\n",
    "            \n",
    "            res = [ele for ele in test_list if(ele in test_string)]\n",
    "            if str(bool(res)) == 'False':\n",
    "                writer.writerow(line)\n",
    "                               \n",
    "                \n",
    "if os.path.exists('HeatTrain2CSV.csv'):                                                # Prevents overlap of files\n",
    "    os.remove('HeatTrain2CSV.csv')\n",
    "\n",
    "with open('HeatTrain2CSV.csv', \"a+\", encoding='utf-8', newline='') as csvfile:         # Loop for all files in File_Locations\n",
    "    writer = csv.writer(csvfile)\n",
    "\n",
    "    with open('HeatTrain2oldCSV.csv','r', encoding='utf-8') as csvfile:       # Run through lines of csv\n",
    "        read = csv.reader(csvfile)\n",
    "        for line in read:\n",
    "            test_string = line[6]\n",
    "            \n",
    "            res = [ele for ele in test_list if(ele in test_string)]\n",
    "            if str(bool(res)) == 'False':\n",
    "                writer.writerow(line)"
   ]
  },
  {
   "cell_type": "code",
   "execution_count": null,
   "metadata": {},
   "outputs": [],
   "source": []
  }
 ],
 "metadata": {
  "kernelspec": {
   "display_name": "Python 3",
   "language": "python",
   "name": "python3"
  },
  "language_info": {
   "codemirror_mode": {
    "name": "ipython",
    "version": 3
   },
   "file_extension": ".py",
   "mimetype": "text/x-python",
   "name": "python",
   "nbconvert_exporter": "python",
   "pygments_lexer": "ipython3",
   "version": "3.7.7"
  }
 },
 "nbformat": 4,
 "nbformat_minor": 4
}
