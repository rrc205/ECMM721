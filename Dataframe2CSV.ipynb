{
 "cells": [
  {
   "cell_type": "markdown",
   "metadata": {},
   "source": [
    "# Pkl to CSV\n",
    "\n",
    "**Moving to R so need to change data form**"
   ]
  },
  {
   "cell_type": "code",
   "execution_count": 1,
   "metadata": {},
   "outputs": [],
   "source": [
    "## Import libraries\n",
    "\n",
    "import matplotlib.pyplot as plt                               # Used for plotting data\n",
    "from collections import Counter                               # This is used to count occurances of values\n",
    "import pandas as pd                                           # Used for cleanly displaying data\n",
    "import numpy as np                                            # Collection of mathematical functions\n",
    "import tarfile                                                # Used for extracting files\n",
    "import json                                                   # Processing individual JSON files uses this\n",
    "import csv                                                    # This was used to create and read csvs\n",
    "import string\n",
    "import pickle\n",
    "import os                                                     # This helped locate and delete json files\n",
    "import re\n",
    "import cartopy\n",
    "from ast import literal_eval                                  # Used to convert strings to dict\n",
    "from datetime import datetime                                 # This processes different date formats\n",
    "from pandas.plotting import register_matplotlib_converters    # This had to be registered to allow for timeseries plots\n",
    "from vaderSentiment.vaderSentiment import SentimentIntensityAnalyzer\n",
    "from emoji import demojize\n",
    "from langdetect import detect\n",
    "from multiprocessing import Process\n",
    "import cartopy.crs as ccrs\n",
    "import cartopy.feature as cfeature\n",
    "import matplotlib.pyplot as plt\n",
    "import cartopy.io.img_tiles as cimgt\n",
    "from matplotlib.patches import Rectangle\n",
    "from sklearn.model_selection import train_test_split\n",
    "from sklearn.naive_bayes import MultinomialNB\n",
    "from sklearn.metrics import f1_score\n",
    "from sklearn.metrics import accuracy_score\n",
    "from sklearn.metrics import  confusion_matrix\n",
    "from scipy.stats import skew\n",
    "from scipy.stats.stats import pearsonr\n",
    "from sklearn.model_selection import cross_val_score\n",
    "\n",
    "register_matplotlib_converters()\n",
    "pd.set_option('display.max_rows', 10)                         # Setting displayed panda length"
   ]
  },
  {
   "cell_type": "code",
   "execution_count": 2,
   "metadata": {},
   "outputs": [],
   "source": [
    "with open('df_can.pkl', 'rb') as infile:\n",
    "    loaddata = pickle.load(infile)\n",
    "    \n",
    "df_can = loaddata['table_ETFcan']\n",
    "\n",
    "df_can.to_csv('ETF_Canada.csv')"
   ]
  },
  {
   "cell_type": "code",
   "execution_count": 3,
   "metadata": {},
   "outputs": [],
   "source": [
    "with open('df_uk.pkl', 'rb') as infile:\n",
    "    loaddata = pickle.load(infile)\n",
    "    \n",
    "df_uk = loaddata['table_ETFuk']\n",
    "\n",
    "df_uk.to_csv('ETF_UK.csv')"
   ]
  },
  {
   "cell_type": "code",
   "execution_count": 4,
   "metadata": {},
   "outputs": [],
   "source": [
    "with open('df_ir.pkl', 'rb') as infile:\n",
    "    loaddata = pickle.load(infile)\n",
    "    \n",
    "df_ir = loaddata['table_ETFir']\n",
    "\n",
    "df_ir.to_csv('ETF_Ireland.csv')"
   ]
  },
  {
   "cell_type": "code",
   "execution_count": 5,
   "metadata": {},
   "outputs": [],
   "source": [
    "with open('df_sw.pkl', 'rb') as infile:\n",
    "    loaddata = pickle.load(infile)\n",
    "    \n",
    "df_sw = loaddata['table_ETFsw']\n",
    "\n",
    "df_sw.to_csv('ETF_Sweden.csv')"
   ]
  },
  {
   "cell_type": "code",
   "execution_count": 6,
   "metadata": {},
   "outputs": [],
   "source": [
    "with open('df_in.pkl', 'rb') as infile:\n",
    "    loaddata = pickle.load(infile)\n",
    "    \n",
    "df_in = loaddata['table_ETFin']\n",
    "\n",
    "df_in.to_csv('ETF_India.csv')"
   ]
  },
  {
   "cell_type": "code",
   "execution_count": 8,
   "metadata": {},
   "outputs": [],
   "source": [
    "with open('df_tx.pkl', 'rb') as infile:\n",
    "    loaddata = pickle.load(infile)\n",
    "    \n",
    "df_tx = loaddata['table_ETFtx']\n",
    "\n",
    "df_tx.to_csv('ETF_Texas.csv')"
   ]
  },
  {
   "cell_type": "code",
   "execution_count": 9,
   "metadata": {},
   "outputs": [],
   "source": [
    "with open('df_au.pkl', 'rb') as infile:\n",
    "    loaddata = pickle.load(infile)\n",
    "    \n",
    "df_au = loaddata['table_ETFau']\n",
    "\n",
    "df_au.to_csv('ETF_Australia.csv')"
   ]
  },
  {
   "cell_type": "code",
   "execution_count": null,
   "metadata": {},
   "outputs": [],
   "source": []
  }
 ],
 "metadata": {
  "kernelspec": {
   "display_name": "Python 3",
   "language": "python",
   "name": "python3"
  },
  "language_info": {
   "codemirror_mode": {
    "name": "ipython",
    "version": 3
   },
   "file_extension": ".py",
   "mimetype": "text/x-python",
   "name": "python",
   "nbconvert_exporter": "python",
   "pygments_lexer": "ipython3",
   "version": "3.7.7"
  }
 },
 "nbformat": 4,
 "nbformat_minor": 4
}
